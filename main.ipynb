{
 "cells": [
  {
   "cell_type": "code",
   "execution_count": 1,
   "metadata": {},
   "outputs": [],
   "source": [
    "import pandas as pd\n",
    "import numpy as np\n",
    "import matplotlib.pyplot as plt\n",
    "import seaborn as sns\n",
    "\n"
   ]
  },
  {
   "cell_type": "code",
   "execution_count": 2,
   "metadata": {},
   "outputs": [
    {
     "name": "stdout",
     "output_type": "stream",
     "text": [
      "['UserID', 'CourseCategory', 'TimeSpentOnCourse', 'NumberOfVideosWatched', 'NumberOfQuizzesTaken', 'QuizScores', 'CompletionRate', 'DeviceType', 'CourseCompletion']\n"
     ]
    }
   ],
   "source": [
    "df = pd.read_csv(\"online_course_engagement_data.csv\")\n",
    "print(df.columns.tolist())"
   ]
  },
  {
   "cell_type": "code",
   "execution_count": 3,
   "metadata": {},
   "outputs": [
    {
     "name": "stdout",
     "output_type": "stream",
     "text": [
      "Number of duplicate rows: 877\n",
      "Number of duplicate rows: 0\n",
      "The total rows are: 8123\n"
     ]
    }
   ],
   "source": [
    "# Checking for any duplicate rows and removing them\n",
    "# Gathering total length of rows to compare\n",
    "duplicate_rows = df.duplicated()\n",
    "print(\"Number of duplicate rows:\", duplicate_rows.sum())\n",
    "df.drop_duplicates(inplace=True)\n",
    "duplicate_rows = df.duplicated()\n",
    "print(\"Number of duplicate rows:\", duplicate_rows.sum())\n",
    "total_rows = len(df)\n",
    "print(f\"The total rows are: {total_rows}\")"
   ]
  },
  {
   "cell_type": "code",
   "execution_count": 4,
   "metadata": {},
   "outputs": [
    {
     "name": "stdout",
     "output_type": "stream",
     "text": [
      "UserID                   0\n",
      "CourseCategory           0\n",
      "TimeSpentOnCourse        0\n",
      "NumberOfVideosWatched    0\n",
      "NumberOfQuizzesTaken     0\n",
      "QuizScores               0\n",
      "CompletionRate           0\n",
      "DeviceType               0\n",
      "CourseCompletion         0\n",
      "dtype: int64\n"
     ]
    }
   ],
   "source": [
    "# Checking for any missing Null values\n",
    "check_for_NaNs = df.isnull().sum()\n",
    "print(check_for_NaNs)"
   ]
  },
  {
   "cell_type": "code",
   "execution_count": 13,
   "metadata": {},
   "outputs": [
    {
     "name": "stdout",
     "output_type": "stream",
     "text": [
      "<class 'pandas.core.frame.DataFrame'>\n",
      "Index: 8123 entries, 0 to 8999\n",
      "Data columns (total 9 columns):\n",
      " #   Column                 Non-Null Count  Dtype  \n",
      "---  ------                 --------------  -----  \n",
      " 0   UserID                 8123 non-null   int64  \n",
      " 1   CourseCategory         8123 non-null   object \n",
      " 2   TimeSpentOnCourse      8123 non-null   float64\n",
      " 3   NumberOfVideosWatched  8123 non-null   int64  \n",
      " 4   NumberOfQuizzesTaken   8123 non-null   int64  \n",
      " 5   QuizScores             8123 non-null   float64\n",
      " 6   CompletionRate         8123 non-null   float64\n",
      " 7   DeviceType             8123 non-null   int64  \n",
      " 8   CourseCompletion       8123 non-null   int64  \n",
      "dtypes: float64(3), int64(5), object(1)\n",
      "memory usage: 634.6+ KB\n"
     ]
    },
    {
     "data": {
      "text/html": [
       "<div>\n",
       "<style scoped>\n",
       "    .dataframe tbody tr th:only-of-type {\n",
       "        vertical-align: middle;\n",
       "    }\n",
       "\n",
       "    .dataframe tbody tr th {\n",
       "        vertical-align: top;\n",
       "    }\n",
       "\n",
       "    .dataframe thead th {\n",
       "        text-align: right;\n",
       "    }\n",
       "</style>\n",
       "<table border=\"1\" class=\"dataframe\">\n",
       "  <thead>\n",
       "    <tr style=\"text-align: right;\">\n",
       "      <th></th>\n",
       "      <th>UserID</th>\n",
       "      <th>TimeSpentOnCourse</th>\n",
       "      <th>NumberOfVideosWatched</th>\n",
       "      <th>NumberOfQuizzesTaken</th>\n",
       "      <th>QuizScores</th>\n",
       "      <th>CompletionRate</th>\n",
       "      <th>DeviceType</th>\n",
       "      <th>CourseCompletion</th>\n",
       "    </tr>\n",
       "  </thead>\n",
       "  <tbody>\n",
       "    <tr>\n",
       "      <th>count</th>\n",
       "      <td>8123.000000</td>\n",
       "      <td>8123.000000</td>\n",
       "      <td>8123.000000</td>\n",
       "      <td>8123.000000</td>\n",
       "      <td>8123.000000</td>\n",
       "      <td>8123.000000</td>\n",
       "      <td>8123.000000</td>\n",
       "      <td>8123.000000</td>\n",
       "    </tr>\n",
       "    <tr>\n",
       "      <th>mean</th>\n",
       "      <td>4504.687185</td>\n",
       "      <td>50.607728</td>\n",
       "      <td>10.148098</td>\n",
       "      <td>5.166933</td>\n",
       "      <td>75.091084</td>\n",
       "      <td>51.190873</td>\n",
       "      <td>0.500431</td>\n",
       "      <td>0.439247</td>\n",
       "    </tr>\n",
       "    <tr>\n",
       "      <th>std</th>\n",
       "      <td>2604.220672</td>\n",
       "      <td>28.364184</td>\n",
       "      <td>5.987972</td>\n",
       "      <td>3.132108</td>\n",
       "      <td>14.339876</td>\n",
       "      <td>29.069716</td>\n",
       "      <td>0.500031</td>\n",
       "      <td>0.496326</td>\n",
       "    </tr>\n",
       "    <tr>\n",
       "      <th>min</th>\n",
       "      <td>1.000000</td>\n",
       "      <td>1.005230</td>\n",
       "      <td>0.000000</td>\n",
       "      <td>0.000000</td>\n",
       "      <td>50.005119</td>\n",
       "      <td>0.009327</td>\n",
       "      <td>0.000000</td>\n",
       "      <td>0.000000</td>\n",
       "    </tr>\n",
       "    <tr>\n",
       "      <th>25%</th>\n",
       "      <td>2248.500000</td>\n",
       "      <td>26.114631</td>\n",
       "      <td>5.000000</td>\n",
       "      <td>2.000000</td>\n",
       "      <td>62.791226</td>\n",
       "      <td>26.276765</td>\n",
       "      <td>0.000000</td>\n",
       "      <td>0.000000</td>\n",
       "    </tr>\n",
       "    <tr>\n",
       "      <th>50%</th>\n",
       "      <td>4492.000000</td>\n",
       "      <td>50.316921</td>\n",
       "      <td>10.000000</td>\n",
       "      <td>5.000000</td>\n",
       "      <td>75.273913</td>\n",
       "      <td>51.581186</td>\n",
       "      <td>1.000000</td>\n",
       "      <td>0.000000</td>\n",
       "    </tr>\n",
       "    <tr>\n",
       "      <th>75%</th>\n",
       "      <td>6766.500000</td>\n",
       "      <td>75.377730</td>\n",
       "      <td>15.000000</td>\n",
       "      <td>8.000000</td>\n",
       "      <td>87.497542</td>\n",
       "      <td>76.729629</td>\n",
       "      <td>1.000000</td>\n",
       "      <td>1.000000</td>\n",
       "    </tr>\n",
       "    <tr>\n",
       "      <th>max</th>\n",
       "      <td>9000.000000</td>\n",
       "      <td>99.992558</td>\n",
       "      <td>20.000000</td>\n",
       "      <td>10.000000</td>\n",
       "      <td>99.994984</td>\n",
       "      <td>99.979711</td>\n",
       "      <td>1.000000</td>\n",
       "      <td>1.000000</td>\n",
       "    </tr>\n",
       "  </tbody>\n",
       "</table>\n",
       "</div>"
      ],
      "text/plain": [
       "            UserID  TimeSpentOnCourse  NumberOfVideosWatched  \\\n",
       "count  8123.000000        8123.000000            8123.000000   \n",
       "mean   4504.687185          50.607728              10.148098   \n",
       "std    2604.220672          28.364184               5.987972   \n",
       "min       1.000000           1.005230               0.000000   \n",
       "25%    2248.500000          26.114631               5.000000   \n",
       "50%    4492.000000          50.316921              10.000000   \n",
       "75%    6766.500000          75.377730              15.000000   \n",
       "max    9000.000000          99.992558              20.000000   \n",
       "\n",
       "       NumberOfQuizzesTaken   QuizScores  CompletionRate   DeviceType  \\\n",
       "count           8123.000000  8123.000000     8123.000000  8123.000000   \n",
       "mean               5.166933    75.091084       51.190873     0.500431   \n",
       "std                3.132108    14.339876       29.069716     0.500031   \n",
       "min                0.000000    50.005119        0.009327     0.000000   \n",
       "25%                2.000000    62.791226       26.276765     0.000000   \n",
       "50%                5.000000    75.273913       51.581186     1.000000   \n",
       "75%                8.000000    87.497542       76.729629     1.000000   \n",
       "max               10.000000    99.994984       99.979711     1.000000   \n",
       "\n",
       "       CourseCompletion  \n",
       "count       8123.000000  \n",
       "mean           0.439247  \n",
       "std            0.496326  \n",
       "min            0.000000  \n",
       "25%            0.000000  \n",
       "50%            0.000000  \n",
       "75%            1.000000  \n",
       "max            1.000000  "
      ]
     },
     "execution_count": 13,
     "metadata": {},
     "output_type": "execute_result"
    }
   ],
   "source": [
    "# General Information for data cleanup\n",
    "df.info()\n",
    "df.describe()"
   ]
  },
  {
   "cell_type": "code",
   "execution_count": null,
   "metadata": {},
   "outputs": [],
   "source": []
  },
  {
   "cell_type": "code",
   "execution_count": 12,
   "metadata": {},
   "outputs": [
    {
     "name": "stdout",
     "output_type": "stream",
     "text": [
      "count    8123.000000\n",
      "mean       10.148098\n",
      "std         5.987972\n",
      "min         0.000000\n",
      "25%         5.000000\n",
      "50%        10.000000\n",
      "75%        15.000000\n",
      "max        20.000000\n",
      "Name: NumberOfVideosWatched, dtype: float64\n",
      "The total number of videos watched is 8123\n"
     ]
    }
   ],
   "source": [
    "# Checking to see sum of videos watched \n",
    "videos_watched = df[\"NumberOfVideosWatched\"]\n",
    "print(videos_watched.describe())\n",
    "total_videos_watched = len(videos_watched)\n",
    "print(f\"The total number of videos watched is {total_videos_watched}\")"
   ]
  },
  {
   "cell_type": "code",
   "execution_count": 6,
   "metadata": {},
   "outputs": [
    {
     "name": "stdout",
     "output_type": "stream",
     "text": [
      "Sum of Frequencies is 8123\n"
     ]
    }
   ],
   "source": [
    "# Confirming if sum of frequencies matches videos watched\n",
    "hist, bin_edge = np.histogram(videos_watched, bins=20)\n"
   ]
  },
  {
   "cell_type": "code",
   "execution_count": 8,
   "metadata": {},
   "outputs": [
    {
     "data": {
      "image/png": "[encoded data removed]",
      "text/plain": [
       "<Figure size 1000x600 with 1 Axes>"
      ]
     },
     "metadata": {},
     "output_type": "display_data"
    }
   ],
   "source": [
    "#Plotting histogram for videos watched\n",
    "plt.figure(figsize=(10, 6))\n",
    "sns.histplot(videos_watched,bins=20,kde=False,color=\"blue\")\n",
    "plt.xlabel(\"Number of Videos Watched\")\n",
    "plt.ylabel(\"Frequency\")\n",
    "plt.title(\"Histogram of Number of Videos Watched\")\n",
    "plt.show()\n"
   ]
  },
  {
   "cell_type": "code",
   "execution_count": 11,
   "metadata": {},
   "outputs": [
    {
     "name": "stdout",
     "output_type": "stream",
     "text": [
      "count    8123.000000\n",
      "mean        5.166933\n",
      "std         3.132108\n",
      "min         0.000000\n",
      "25%         2.000000\n",
      "50%         5.000000\n",
      "75%         8.000000\n",
      "max        10.000000\n",
      "Name: NumberOfQuizzesTaken, dtype: float64\n",
      "The total number of videos watched is 8123\n"
     ]
    }
   ],
   "source": [
    "quizzes_taken = df[\"NumberOfQuizzesTaken\"]\n",
    "print(quizzes_taken.describe())\n",
    "total_quizzes_taken = len(quizzes_taken)\n",
    "print(f\"The total number of videos watched is {total_quizzes_taken}\")"
   ]
  },
  {
   "cell_type": "code",
   "execution_count": 15,
   "metadata": {},
   "outputs": [
    {
     "name": "stdout",
     "output_type": "stream",
     "text": [
      "Sum of Frequencies is 8123\n"
     ]
    }
   ],
   "source": [
    "# Confirming if sum of frequencies matches videos watched\n",
    "hist, bin = np.histogram(quizzes_taken, bins=20)\n",
    "print(f\"Sum of Frequencies is {sum(hist)}\")"
   ]
  },
  {
   "cell_type": "code",
   "execution_count": 18,
   "metadata": {},
   "outputs": [
    {
     "data": {
      "image/png": "[encoded data removed]",
      "text/plain": [
       "<Figure size 1000x600 with 1 Axes>"
      ]
     },
     "metadata": {},
     "output_type": "display_data"
    }
   ],
   "source": [
    "plt.figure(figsize=(10,6))\n",
    "sns.histplot(quizzes_taken, bins=20, kde=False, color=\"red\")\n",
    "plt.xlabel(\"Number of Quizzes Taken\")\n",
    "plt.ylabel(\"Frequency\")\n",
    "plt.title(\"Histogram of Number of Quizzes taken\")\n",
    "plt.show()"
   ]
  },
  {
   "cell_type": "code",
   "execution_count": null,
   "metadata": {},
   "outputs": [
    {
     "name": "stdout",
     "output_type": "stream",
     "text": [
      "Number of users who did not watch any videos: 347\n",
      "Number of users who did not take any quizzes: 648\n"
     ]
    }
   ],
   "source": [
    "# gatherint data to see how many users didn't watch a video or take a quiz\n",
    "no_videos_watched = df[df[\"NumberOfVideosWatched\"] == 0].shape[0]\n",
    "no_quizzes_taken = df[df[\"NumberOfQuizzesTaken\"] == 0].shape[0]\n",
    "\n",
    "print(f\"Number of users who did not watch any videos: {no_videos_watched}\")\n",
    "print(f\"Number of users who did not take any quizzes: {no_quizzes_taken}\")"
   ]
  }
 ],
 "metadata": {
  "kernelspec": {
   "display_name": "venv",
   "language": "python",
   "name": "python3"
  },
  "language_info": {
   "codemirror_mode": {
    "name": "ipython",
    "version": 3
   },
   "file_extension": ".py",
   "mimetype": "text/x-python",
   "name": "python",
   "nbconvert_exporter": "python",
   "pygments_lexer": "ipython3",
   "version": "3.12.1"
  }
 },
 "nbformat": 4,
 "nbformat_minor": 2
}
